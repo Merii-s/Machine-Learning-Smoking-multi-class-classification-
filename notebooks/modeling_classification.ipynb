{
 "cells": [
  {
   "cell_type": "code",
   "execution_count": null,
   "metadata": {},
   "outputs": [],
   "source": [
    "# Configuration du chemin d'accès\n",
    "import sys\n",
    "import os\n",
    "sys.path.append(os.path.abspath(os.path.join('..', 'src')))\n",
    "\n",
    "# Importations des modules nécessaires\n",
    "import data_loader\n",
    "import preprocessing\n",
    "import modeling\n",
    "import evaluation\n",
    "\n",
    "# Charger les données\n",
    "data_path = '../data/raw/smoking_drinking_dataset.csv'\n",
    "data = data_loader.load_data(data_path)"
   ]
  }
 ],
 "metadata": {
  "language_info": {
   "name": "python"
  },
  "orig_nbformat": 4
 },
 "nbformat": 4,
 "nbformat_minor": 2
}
